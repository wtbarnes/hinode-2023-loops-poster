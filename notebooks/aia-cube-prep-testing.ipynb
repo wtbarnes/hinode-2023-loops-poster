{
 "cells": [
  {
   "cell_type": "code",
   "execution_count": 1,
   "id": "07b88c5a-f9e9-4e87-8ce8-a06325171df8",
   "metadata": {},
   "outputs": [],
   "source": [
    "from sunpy.net import Fido, attrs as a\n",
    "import astropy.units as u\n",
    "import astropy.time\n",
    "import astropy.io.fits\n",
    "from sunpy.coordinates import propagate_with_solar_surface\n",
    "from reproject import reproject_adaptive\n",
    "import astropy.wcs\n",
    "import ndcube\n",
    "from sunpy.map.header_helper import make_fitswcs_header\n",
    "import sunpy.map\n",
    "import eispac.core\n",
    "import numpy as np\n",
    "from aiapy.calibrate.util import get_correction_table\n",
    "\n",
    "import dask.array\n",
    "import distributed\n",
    "from dask_gateway import Gateway\n",
    "from dask.distributed import PipInstall\n",
    "\n",
    "import sys\n",
    "sys.path.append('../pipeline')\n",
    "from net.heliocloud import HelioCloudClient\n",
    "import net.attrs as heliocloud_attrs\n",
    "from stack_aia_data import build_cutout_cube"
   ]
  },
  {
   "cell_type": "code",
   "execution_count": 2,
   "id": "56706ff3-39e0-43e4-9a49-0a08f71315f3",
   "metadata": {},
   "outputs": [],
   "source": [
    "import distributed"
   ]
  },
  {
   "cell_type": "code",
   "execution_count": 3,
   "id": "9ed62fcc-aa77-4ba6-8d6e-6c0b52f769fe",
   "metadata": {},
   "outputs": [],
   "source": [
    "client = distributed.Client()"
   ]
  },
  {
   "cell_type": "code",
   "execution_count": 4,
   "id": "1eef046e-d44f-4435-bbec-46a4a03e4c64",
   "metadata": {},
   "outputs": [
    {
     "data": {
      "text/plain": [
       "'http://127.0.0.1:8787/status'"
      ]
     },
     "execution_count": 4,
     "metadata": {},
     "output_type": "execute_result"
    }
   ],
   "source": [
    "client.dashboard_link"
   ]
  },
  {
   "cell_type": "code",
   "execution_count": 5,
   "id": "0ac9e8b2-6a06-456a-a682-6543b1c43c34",
   "metadata": {},
   "outputs": [
    {
     "data": {
      "text/plain": [
       "'tcp://127.0.0.1:46845'"
      ]
     },
     "execution_count": 5,
     "metadata": {},
     "output_type": "execute_result"
    }
   ],
   "source": [
    "client.scheduler.address"
   ]
  },
  {
   "cell_type": "markdown",
   "id": "e13676f9-0797-441b-a2aa-36557f909fb9",
   "metadata": {},
   "source": [
    "## Dask Client Setup"
   ]
  },
  {
   "cell_type": "code",
   "execution_count": 2,
   "id": "50d65d80-6e91-4e04-8eb3-13b858f1d83d",
   "metadata": {},
   "outputs": [],
   "source": [
    "gateway = Gateway()"
   ]
  },
  {
   "cell_type": "code",
   "execution_count": 3,
   "id": "dbb2581e-b889-4a88-b06f-9a7e9f27c047",
   "metadata": {},
   "outputs": [],
   "source": [
    "options = gateway.cluster_options()\n",
    "options.worker_cores = 1\n",
    "options.worker_memory = 8"
   ]
  },
  {
   "cell_type": "code",
   "execution_count": 4,
   "id": "ed7081c0-7fba-47e5-bde4-a51967070bfe",
   "metadata": {},
   "outputs": [],
   "source": [
    "cluster = gateway.new_cluster(options)"
   ]
  },
  {
   "cell_type": "code",
   "execution_count": 5,
   "id": "d01aa7a5-4de3-424c-a88d-bc819d116f76",
   "metadata": {},
   "outputs": [
    {
     "name": "stderr",
     "output_type": "stream",
     "text": [
      "/home/jovyan/users_conda_envs/hinode-2023-loops-poster/lib/python3.11/site-packages/distributed/client.py:1361: VersionMismatchWarning: Mismatched versions found\n",
      "\n",
      "+---------+----------------+----------------+---------+\n",
      "| Package | Client         | Scheduler      | Workers |\n",
      "+---------+----------------+----------------+---------+\n",
      "| python  | 3.11.4.final.0 | 3.10.8.final.0 | None    |\n",
      "+---------+----------------+----------------+---------+\n",
      "  warnings.warn(version_module.VersionMismatchWarning(msg[0][\"warning\"]))\n"
     ]
    },
    {
     "data": {
      "text/html": [
       "<div>\n",
       "    <div style=\"width: 24px; height: 24px; background-color: #e1e1e1; border: 3px solid #9D9D9D; border-radius: 5px; position: absolute;\"> </div>\n",
       "    <div style=\"margin-left: 48px;\">\n",
       "        <h3 style=\"margin-bottom: 0px;\">Client</h3>\n",
       "        <p style=\"color: #9D9D9D; margin-bottom: 0px;\">Client-03f6fe64-42af-11ee-885f-cad8d910d3a5</p>\n",
       "        <table style=\"width: 100%; text-align: left;\">\n",
       "\n",
       "        <tr>\n",
       "        \n",
       "            <td style=\"text-align: left;\"><strong>Connection method:</strong> Cluster object</td>\n",
       "            <td style=\"text-align: left;\"><strong>Cluster type:</strong> dask_gateway.GatewayCluster</td>\n",
       "        \n",
       "        </tr>\n",
       "\n",
       "        \n",
       "            <tr>\n",
       "                <td style=\"text-align: left;\">\n",
       "                    <strong>Dashboard: </strong> <a href=\"/services/dask-gateway/clusters/daskhub.1fd56d5a209b442dad84f6f6f29805e8/status\" target=\"_blank\">/services/dask-gateway/clusters/daskhub.1fd56d5a209b442dad84f6f6f29805e8/status</a>\n",
       "                </td>\n",
       "                <td style=\"text-align: left;\"></td>\n",
       "            </tr>\n",
       "        \n",
       "\n",
       "        </table>\n",
       "\n",
       "        \n",
       "\n",
       "        \n",
       "            <details>\n",
       "            <summary style=\"margin-bottom: 20px;\"><h3 style=\"display: inline;\">Cluster Info</h3></summary>\n",
       "            <div style='background-color: #f2f2f2; display: inline-block; padding: 10px; border: 1px solid #999999;'>\n",
       "  <h3>GatewayCluster</h3>\n",
       "  <ul>\n",
       "    <li><b>Name: </b>daskhub.1fd56d5a209b442dad84f6f6f29805e8\n",
       "    <li><b>Dashboard: </b><a href='/services/dask-gateway/clusters/daskhub.1fd56d5a209b442dad84f6f6f29805e8/status' target='_blank'>/services/dask-gateway/clusters/daskhub.1fd56d5a209b442dad84f6f6f29805e8/status</a>\n",
       "  </ul>\n",
       "</div>\n",
       "\n",
       "            </details>\n",
       "        \n",
       "\n",
       "    </div>\n",
       "</div>"
      ],
      "text/plain": [
       "<Client: 'tls://192.168.31.201:8786' processes=0 threads=0, memory=0 B>"
      ]
     },
     "execution_count": 5,
     "metadata": {},
     "output_type": "execute_result"
    }
   ],
   "source": [
    "client = cluster.get_client()\n",
    "client"
   ]
  },
  {
   "cell_type": "code",
   "execution_count": 6,
   "id": "9d1fc7f8-ff16-4d92-90cf-6d8a74dfa7e0",
   "metadata": {},
   "outputs": [
    {
     "data": {
      "text/plain": [
       "{}"
      ]
     },
     "execution_count": 6,
     "metadata": {},
     "output_type": "execute_result"
    }
   ],
   "source": [
    "pip_plugin = PipInstall(\n",
    "    packages=[\n",
    "        \"ndcube\",\n",
    "        \"sunpy[map]\",\n",
    "        \"astropy\",\n",
    "        \"aiapy\",\n",
    "    ],\n",
    "    pip_options=[\"--upgrade\"],\n",
    ")\n",
    "client.register_worker_plugin(pip_plugin)"
   ]
  },
  {
   "cell_type": "code",
   "execution_count": 7,
   "id": "976be271-5077-4294-87a0-2e04d23f9dd6",
   "metadata": {},
   "outputs": [],
   "source": [
    "cluster.adapt(minimum=3, maximum=100)"
   ]
  },
  {
   "cell_type": "code",
   "execution_count": 15,
   "id": "99726b98-7e35-4ca6-9cdd-1e04b580c548",
   "metadata": {},
   "outputs": [
    {
     "data": {
      "text/plain": [
       "'gateway://traefik-daskhub-dask-gateway.daskhub:80/daskhub.1fd56d5a209b442dad84f6f6f29805e8'"
      ]
     },
     "execution_count": 15,
     "metadata": {},
     "output_type": "execute_result"
    }
   ],
   "source": [
    "client.scheduler.address"
   ]
  },
  {
   "cell_type": "code",
   "execution_count": 19,
   "id": "5e3b0651-1d62-48e8-b1c7-def7f7bb1714",
   "metadata": {},
   "outputs": [
    {
     "data": {
      "text/plain": [
       "'gateway://traefik-daskhub-dask-gateway.daskhub:80/daskhub.1fd56d5a209b442dad84f6f6f29805e8'"
      ]
     },
     "execution_count": 19,
     "metadata": {},
     "output_type": "execute_result"
    }
   ],
   "source": [
    "client.cluster.scheduler_address"
   ]
  },
  {
   "cell_type": "markdown",
   "id": "a8267b25-9cac-4bd1-b3d4-2adc3895da45",
   "metadata": {},
   "source": [
    "## Align AIA Data"
   ]
  },
  {
   "cell_type": "code",
   "execution_count": 5,
   "id": "62e9846b-0840-48cd-a199-a3452dc59d7e",
   "metadata": {},
   "outputs": [],
   "source": [
    "interval = 12*u.h\n",
    "time_start = astropy.time.Time('2012-09-24 09:00:00', scale='utc', format='iso')\n",
    "time_end = time_start + interval"
   ]
  },
  {
   "cell_type": "markdown",
   "id": "a110a633-175c-4720-9cbd-c7ff15f3ba54",
   "metadata": {},
   "source": [
    "To search for data, we can use the `Fido` search interface provided by `sunpy` combined with a custom client developed to search the HelioCloud database."
   ]
  },
  {
   "cell_type": "code",
   "execution_count": 6,
   "id": "5ceb97a0-9aac-4d43-ba4d-21a495df76b9",
   "metadata": {},
   "outputs": [],
   "source": [
    "q = Fido.search(\n",
    "    a.Time(time_start, time_end),\n",
    "    a.Wavelength(171*u.angstrom),\n",
    "    heliocloud_attrs.Dataset('AIA'),\n",
    ")"
   ]
  },
  {
   "cell_type": "code",
   "execution_count": 7,
   "id": "2a3850a6-f235-4724-a4ea-2eb6b65ecd87",
   "metadata": {},
   "outputs": [],
   "source": [
    "m_eis_ref = sunpy.map.Map('../pipeline/data/EIS/level_2.5/*.fe_12_195_119.2c-0.int.fits')"
   ]
  },
  {
   "cell_type": "code",
   "execution_count": 8,
   "id": "b1ba11ff-f11c-4678-a015-1e24c71dc223",
   "metadata": {},
   "outputs": [],
   "source": [
    "aia_scale = [0.6,  0.6]* u.arcsec / u.pix\n",
    "shape = np.ceil(u.Quantity(m_eis_ref.dimensions) * u.Quantity(m_eis_ref.scale) / aia_scale).to_value('pix').astype(int)[::-1]"
   ]
  },
  {
   "cell_type": "code",
   "execution_count": 9,
   "id": "7a825aa9-b1d1-44a2-bdba-f28ecacd7299",
   "metadata": {},
   "outputs": [],
   "source": [
    "wavelength = 171 * u.AA"
   ]
  },
  {
   "cell_type": "code",
   "execution_count": 10,
   "id": "04f151d4-491b-4952-98db-ba164053e9ab",
   "metadata": {},
   "outputs": [
    {
     "name": "stdout",
     "output_type": "stream",
     "text": [
      "INFO: Missing metadata for solar radius: assuming the standard radius of the photosphere. [sunpy.map.mapbase]\n",
      "INFO: Missing metadata for solar radius: assuming the standard radius of the photosphere. [sunpy.map.mapbase]\n"
     ]
    }
   ],
   "source": [
    "ref_header = make_fitswcs_header(tuple(shape),\n",
    "                                 m_eis_ref.center,\n",
    "                                 scale=aia_scale,\n",
    "                                 rotation_angle=0*u.deg,\n",
    "                                 wavelength=wavelength,\n",
    "                                 instrument='AIA',\n",
    "                                 telescope='SDO/AIA',\n",
    "                                 observatory='SDO',\n",
    "                                 detector='AIA')"
   ]
  },
  {
   "cell_type": "code",
   "execution_count": 11,
   "id": "88f2a425-f4b1-4d17-a332-9113deae880f",
   "metadata": {},
   "outputs": [],
   "source": [
    "cadence = 4 * u.minute\n",
    "time_common = time_start + np.arange(0, (time_end - time_start).to_value('minute'), cadence.to_value('minute')) * u.minute"
   ]
  },
  {
   "cell_type": "code",
   "execution_count": 12,
   "id": "11dab04e-cefb-423d-a4f4-7a43676180e9",
   "metadata": {},
   "outputs": [
    {
     "name": "stderr",
     "output_type": "stream",
     "text": [
      "/home/jovyan/users_conda_envs/hinode-2023-loops-poster/lib/python3.11/site-packages/erfa/core.py:154: ErfaWarning: ERFA function \"taiutc\" yielded 1 of \"dubious year (Note 4)\"\n",
      "  warnings.warn('ERFA function \"{}\" yielded {}'.format(func_name, wmsg),\n",
      "/home/jovyan/users_conda_envs/hinode-2023-loops-poster/lib/python3.11/site-packages/erfa/core.py:154: ErfaWarning: ERFA function \"utctai\" yielded 1 of \"dubious year (Note 3)\"\n",
      "  warnings.warn('ERFA function \"{}\" yielded {}'.format(func_name, wmsg),\n",
      "/home/jovyan/users_conda_envs/hinode-2023-loops-poster/lib/python3.11/site-packages/erfa/core.py:154: ErfaWarning: ERFA function \"dtf2d\" yielded 100 of \"dubious year (Note 6)\"\n",
      "  warnings.warn('ERFA function \"{}\" yielded {}'.format(func_name, wmsg),\n"
     ]
    }
   ],
   "source": [
    "correction_table = get_correction_table()"
   ]
  },
  {
   "cell_type": "code",
   "execution_count": 13,
   "id": "55dd7c54-b9a9-416f-aa25-892058123f17",
   "metadata": {
    "tags": []
   },
   "outputs": [],
   "source": [
    "cutout_cube = build_cutout_cube(q[0]['URL'],\n",
    "                                time_common,\n",
    "                                ref_header,\n",
    "                                correction_table=correction_table)"
   ]
  },
  {
   "cell_type": "code",
   "execution_count": 17,
   "id": "91ceef0b-9bac-48cf-b944-66160bb08b51",
   "metadata": {},
   "outputs": [],
   "source": [
    "import zarr"
   ]
  },
  {
   "cell_type": "code",
   "execution_count": 42,
   "id": "c97156bd-9092-49e5-af44-57f8d8d87d4b",
   "metadata": {},
   "outputs": [],
   "source": [
    "root = zarr.open('test.zarr')"
   ]
  },
  {
   "cell_type": "code",
   "execution_count": 32,
   "id": "0f7edb51-ec39-40f0-bf83-72538f59a47e",
   "metadata": {},
   "outputs": [],
   "source": [
    "foo = cutout_cube.data.compute()"
   ]
  },
  {
   "cell_type": "code",
   "execution_count": 45,
   "id": "2144374d-e8b1-47de-b0d0-a6bf386c1f23",
   "metadata": {},
   "outputs": [
    {
     "data": {
      "text/plain": [
       "((180,), (300, 300, 254), (300, 300))"
      ]
     },
     "execution_count": 45,
     "metadata": {},
     "output_type": "execute_result"
    }
   ],
   "source": [
    "cutout_cube.data.chunks"
   ]
  },
  {
   "cell_type": "code",
   "execution_count": 46,
   "id": "d303614f-d82e-4409-9fb2-bbc01513415d",
   "metadata": {},
   "outputs": [
    {
     "data": {
      "text/html": [
       "<table>\n",
       "    <tr>\n",
       "        <td>\n",
       "            <table style=\"border-collapse: collapse;\">\n",
       "                <thead>\n",
       "                    <tr>\n",
       "                        <td> </td>\n",
       "                        <th> Array </th>\n",
       "                        <th> Chunk </th>\n",
       "                    </tr>\n",
       "                </thead>\n",
       "                <tbody>\n",
       "                    \n",
       "                    <tr>\n",
       "                        <th> Bytes </th>\n",
       "                        <td> 703.67 MiB </td>\n",
       "                        <td> 123.60 MiB </td>\n",
       "                    </tr>\n",
       "                    \n",
       "                    <tr>\n",
       "                        <th> Shape </th>\n",
       "                        <td> (180, 854, 600) </td>\n",
       "                        <td> (180, 300, 300) </td>\n",
       "                    </tr>\n",
       "                    <tr>\n",
       "                        <th> Dask graph </th>\n",
       "                        <td colspan=\"2\"> 6 chunks in 1633 graph layers </td>\n",
       "                    </tr>\n",
       "                    <tr>\n",
       "                        <th> Data type </th>\n",
       "                        <td colspan=\"2\"> float64 numpy.ndarray </td>\n",
       "                    </tr>\n",
       "                </tbody>\n",
       "            </table>\n",
       "        </td>\n",
       "        <td>\n",
       "        <svg width=\"169\" height=\"194\" style=\"stroke:rgb(0,0,0);stroke-width:1\" >\n",
       "\n",
       "  <!-- Horizontal lines -->\n",
       "  <line x1=\"10\" y1=\"0\" x2=\"34\" y2=\"24\" style=\"stroke-width:2\" />\n",
       "  <line x1=\"10\" y1=\"42\" x2=\"34\" y2=\"66\" />\n",
       "  <line x1=\"10\" y1=\"84\" x2=\"34\" y2=\"109\" />\n",
       "  <line x1=\"10\" y1=\"120\" x2=\"34\" y2=\"144\" style=\"stroke-width:2\" />\n",
       "\n",
       "  <!-- Vertical lines -->\n",
       "  <line x1=\"10\" y1=\"0\" x2=\"10\" y2=\"120\" style=\"stroke-width:2\" />\n",
       "  <line x1=\"34\" y1=\"24\" x2=\"34\" y2=\"144\" style=\"stroke-width:2\" />\n",
       "\n",
       "  <!-- Colored Rectangle -->\n",
       "  <polygon points=\"10.0,0.0 34.84036901219258,24.840369012192582 34.84036901219258,144.84036901219258 10.0,120.0\" style=\"fill:#ECB172A0;stroke-width:0\"/>\n",
       "\n",
       "  <!-- Horizontal lines -->\n",
       "  <line x1=\"10\" y1=\"0\" x2=\"94\" y2=\"0\" style=\"stroke-width:2\" />\n",
       "  <line x1=\"34\" y1=\"24\" x2=\"119\" y2=\"24\" style=\"stroke-width:2\" />\n",
       "\n",
       "  <!-- Vertical lines -->\n",
       "  <line x1=\"10\" y1=\"0\" x2=\"34\" y2=\"24\" style=\"stroke-width:2\" />\n",
       "  <line x1=\"52\" y1=\"0\" x2=\"76\" y2=\"24\" />\n",
       "  <line x1=\"94\" y1=\"0\" x2=\"119\" y2=\"24\" style=\"stroke-width:2\" />\n",
       "\n",
       "  <!-- Colored Rectangle -->\n",
       "  <polygon points=\"10.0,0.0 94.30913348946136,0.0 119.14950250165394,24.840369012192582 34.84036901219258,24.840369012192582\" style=\"fill:#ECB172A0;stroke-width:0\"/>\n",
       "\n",
       "  <!-- Horizontal lines -->\n",
       "  <line x1=\"34\" y1=\"24\" x2=\"119\" y2=\"24\" style=\"stroke-width:2\" />\n",
       "  <line x1=\"34\" y1=\"66\" x2=\"119\" y2=\"66\" />\n",
       "  <line x1=\"34\" y1=\"109\" x2=\"119\" y2=\"109\" />\n",
       "  <line x1=\"34\" y1=\"144\" x2=\"119\" y2=\"144\" style=\"stroke-width:2\" />\n",
       "\n",
       "  <!-- Vertical lines -->\n",
       "  <line x1=\"34\" y1=\"24\" x2=\"34\" y2=\"144\" style=\"stroke-width:2\" />\n",
       "  <line x1=\"76\" y1=\"24\" x2=\"76\" y2=\"144\" />\n",
       "  <line x1=\"119\" y1=\"24\" x2=\"119\" y2=\"144\" style=\"stroke-width:2\" />\n",
       "\n",
       "  <!-- Colored Rectangle -->\n",
       "  <polygon points=\"34.84036901219258,24.840369012192582 119.14950250165394,24.840369012192582 119.14950250165394,144.84036901219258 34.84036901219258,144.84036901219258\" style=\"fill:#ECB172A0;stroke-width:0\"/>\n",
       "\n",
       "  <!-- Text -->\n",
       "  <text x=\"76.994936\" y=\"164.840369\" font-size=\"1.0rem\" font-weight=\"100\" text-anchor=\"middle\" >600</text>\n",
       "  <text x=\"139.149503\" y=\"84.840369\" font-size=\"1.0rem\" font-weight=\"100\" text-anchor=\"middle\" transform=\"rotate(-90,139.149503,84.840369)\">854</text>\n",
       "  <text x=\"12.420185\" y=\"152.420185\" font-size=\"1.0rem\" font-weight=\"100\" text-anchor=\"middle\" transform=\"rotate(45,12.420185,152.420185)\">180</text>\n",
       "</svg>\n",
       "        </td>\n",
       "    </tr>\n",
       "</table>"
      ],
      "text/plain": [
       "dask.array<lambda, shape=(180, 854, 600), dtype=float64, chunksize=(180, 300, 300), chunktype=numpy.ndarray>"
      ]
     },
     "execution_count": 46,
     "metadata": {},
     "output_type": "execute_result"
    }
   ],
   "source": [
    "cutout_cube.data"
   ]
  },
  {
   "cell_type": "code",
   "execution_count": 61,
   "id": "e6c22b72-51b5-4f46-83d6-84a34c341c2b",
   "metadata": {},
   "outputs": [
    {
     "data": {
      "text/plain": [
       "'171'"
      ]
     },
     "execution_count": 61,
     "metadata": {},
     "output_type": "execute_result"
    }
   ],
   "source": [
    "f'{wavelength.to_value(\"AA\"):.0f}'"
   ]
  },
  {
   "cell_type": "code",
   "execution_count": 50,
   "id": "1379a1be-ffa7-40b6-a1fe-3e0f446c563d",
   "metadata": {
    "tags": []
   },
   "outputs": [],
   "source": [
    "ds = root.create_dataset('171', shape=cutout_cube.data.shape, overwrite=True)\n",
    "ds.attrs['wcs'] = cutout_cube.wcs.to_header_string()\n",
    "ds.attrs['meta'] = cutout_cube.meta\n",
    "ds.attrs['unit'] = cutout_cube.unit\n",
    "ds[:] = cutout_cube.data.compute()"
   ]
  },
  {
   "cell_type": "markdown",
   "id": "a2a731d8-6a7a-47dc-8642-8431906f54d2",
   "metadata": {},
   "source": [
    "## Sandbox"
   ]
  },
  {
   "cell_type": "code",
   "execution_count": 2,
   "id": "90d49c53-55c8-4167-968b-b49fea745251",
   "metadata": {},
   "outputs": [],
   "source": [
    "import zarr"
   ]
  },
  {
   "cell_type": "code",
   "execution_count": 3,
   "id": "c7a9854a-783d-4094-b15d-a345dc743711",
   "metadata": {},
   "outputs": [],
   "source": [
    "ds = zarr.open_array(store='../pipeline/data/AIA/level_2/193/')"
   ]
  },
  {
   "cell_type": "code",
   "execution_count": 4,
   "id": "2d2b226d-f662-4f74-a14b-f2e16c5c20b2",
   "metadata": {},
   "outputs": [],
   "source": [
    "cube_from_zarr = ndcube.NDCube(\n",
    "    ds[:],\n",
    "    wcs=astropy.wcs.WCS(header=ds.attrs['wcs']),\n",
    "    meta=ds.attrs['meta'],\n",
    ")"
   ]
  },
  {
   "cell_type": "code",
   "execution_count": 21,
   "id": "882b05ae-2bca-45b5-a9ba-8fb2ad111ed1",
   "metadata": {},
   "outputs": [
    {
     "data": {
      "text/plain": [
       "<WCSAxes: >"
      ]
     },
     "execution_count": 21,
     "metadata": {},
     "output_type": "execute_result"
    },
    {
     "data": {
      "image/png": "[encoded data removed]",
      "text/plain": [
       "<Figure size 640x480 with 1 Axes>"
      ]
     },
     "metadata": {},
     "output_type": "display_data"
    }
   ],
   "source": [
    "cube_from_zarr[0].plot()"
   ]
  },
  {
   "cell_type": "code",
   "execution_count": null,
   "id": "536eafd6-a63f-4d7c-872d-e8a084276296",
   "metadata": {},
   "outputs": [],
   "source": []
  }
 ],
 "metadata": {
  "kernelspec": {
   "display_name": "Python [conda env:hinode-2023-loops-poster]",
   "language": "python",
   "name": "conda-env-hinode-2023-loops-poster-py"
  },
  "language_info": {
   "codemirror_mode": {
    "name": "ipython",
    "version": 3
   },
   "file_extension": ".py",
   "mimetype": "text/x-python",
   "name": "python",
   "nbconvert_exporter": "python",
   "pygments_lexer": "ipython3",
   "version": "3.11.4"
  }
 },
 "nbformat": 4,
 "nbformat_minor": 5
}
