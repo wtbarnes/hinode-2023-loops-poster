{
 "cells": [
  {
   "cell_type": "code",
   "execution_count": 1,
   "id": "bddac87b-64b7-4359-812c-351348429e01",
   "metadata": {},
   "outputs": [],
   "source": [
    "import pathlib\n",
    "from dataclasses import dataclass\n",
    "\n",
    "import astropy.units as u\n",
    "import numpy as np\n",
    "import matplotlib.pyplot as plt\n",
    "from scipy.interpolate import interp1d, interpn\n",
    "from pydrad.parse import Strand\n",
    "import sunpy.map\n",
    "import fiasco\n",
    "import eispac.core\n",
    "\n",
    "import distributed\n",
    "\n",
    "import synthesizAR\n",
    "from synthesizAR.instruments import InstrumentBase, InstrumentSDOAIA, InstrumentLOSVelocity, InstrumentHinodeXRT, ChannelBase\n",
    "from synthesizAR.atomic import EmissionModel"
   ]
  },
  {
   "cell_type": "markdown",
   "id": "36662507-0c3b-400b-acc0-789e6d1cf1e0",
   "metadata": {},
   "source": [
    "## Interface for Loading Hydrodynamic Simulations"
   ]
  },
  {
   "cell_type": "markdown",
   "id": "3864319b-7ec3-4880-a672-dcaae59e182c",
   "metadata": {},
   "source": [
    "- Load a single HYDRAD simulation\n",
    "- For each loop, select a random timestep within a given interval\n",
    "- Interpolate given timestep to spatial domain of strand"
   ]
  },
  {
   "cell_type": "code",
   "execution_count": 2,
   "id": "c1effdef-2130-4616-ab64-3360b2048ec8",
   "metadata": {},
   "outputs": [],
   "source": [
    "class HydradSingleRunInterface:\n",
    "    \"\"\"\n",
    "    This takes a single HYDRAD run and maps it to fieldlines in a model skeleton.\n",
    "    A random timestep is sampled from the HYDRAD run\n",
    "    \"\"\"\n",
    "    name = 'HYDRAD_single_run'\n",
    "\n",
    "    def __init__(self, strand, time_range=None):\n",
    "        self.strand = Strand(strand)\n",
    "        self.time_range = self.strand.time[[0,-1]] if time_range is None else time_range\n",
    "        self.time_indices = np.where(np.logical_and(self.strand.time>=self.time_range[0],\n",
    "                                                    self.strand.time<=self.time_range[-1]))[0]\n",
    "\n",
    "    def load_results(self, loop):\n",
    "        # Choose snapshot from simulation\n",
    "        snapshot = self.strand[np.random.choice(self.time_indices)]\n",
    "        s_norm = (snapshot.coordinate / self.strand.loop_length).decompose()\n",
    "        # Interpolate each quantity to loop coordinate\n",
    "        quantities = []\n",
    "        for name in ['electron_temperature', 'ion_temperature', 'electron_density', 'velocity']:\n",
    "            q = getattr(snapshot, name)\n",
    "            f_interp = interp1d(s_norm, q.value, fill_value='extrapolate')\n",
    "            q_interp = f_interp(loop.field_aligned_coordinate_center_norm) * q.unit\n",
    "            quantities.append(q_interp[np.newaxis,:])\n",
    "\n",
    "        time = [0,] * u.s\n",
    "        return [time,] + quantities"
   ]
  },
  {
   "cell_type": "markdown",
   "id": "85d66a36-a097-4751-8fe5-f9bc48fe450a",
   "metadata": {},
   "source": [
    "## Set up Instruments"
   ]
  },
  {
   "cell_type": "code",
   "execution_count": 3,
   "id": "a0255b0a-5be4-463e-b7d2-d974f3142969",
   "metadata": {},
   "outputs": [],
   "source": [
    "# Pull this in to get right observer location\n",
    "m_eis = sunpy.map.Map('../pipeline/data/EIS/level_2.5/eis_20120924_105026.fe_12_195_119.2c-0.int.fits')"
   ]
  },
  {
   "cell_type": "code",
   "execution_count": 4,
   "id": "85163db4-074b-4e2e-83a6-85b2c7cf3a92",
   "metadata": {},
   "outputs": [],
   "source": [
    "pad_fov = [10,10] * u.arcsec"
   ]
  },
  {
   "cell_type": "code",
   "execution_count": 5,
   "id": "a7306015-c0bd-48b0-ba59-1c9f048119a2",
   "metadata": {},
   "outputs": [
    {
     "name": "stdout",
     "output_type": "stream",
     "text": [
      "INFO: Missing metadata for solar radius: assuming the standard radius of the photosphere. [sunpy.map.mapbase]\n"
     ]
    }
   ],
   "source": [
    "aia = InstrumentSDOAIA([0,1]*u.s, m_eis.observer_coordinate, pad_fov=pad_fov)"
   ]
  },
  {
   "cell_type": "code",
   "execution_count": 6,
   "id": "dc876ca3-b15a-4968-9971-6e191ab8ebec",
   "metadata": {},
   "outputs": [],
   "source": [
    "xrt = InstrumentHinodeXRT([0,1]*u.s, m_eis.observer_coordinate, ['Al-poly'], pad_fov=pad_fov)"
   ]
  },
  {
   "cell_type": "code",
   "execution_count": 7,
   "id": "ab3ed8c7-cd17-4569-9423-4e5f5021870a",
   "metadata": {},
   "outputs": [],
   "source": [
    "los_vel = InstrumentLOSVelocity([0,]*u.s, m_eis.observer_coordinate, pad_fov=pad_fov )"
   ]
  },
  {
   "cell_type": "markdown",
   "id": "43f70b02-d090-4764-a8b6-a05a925f0f4f",
   "metadata": {},
   "source": [
    "## Instrument for Spectral Imaging"
   ]
  },
  {
   "cell_type": "code",
   "execution_count": 8,
   "id": "f40924ba-6ba5-4264-9651-c03d0448aaf8",
   "metadata": {},
   "outputs": [],
   "source": [
    "#density_grid = np.logspace(7,12,30) * u.Unit('cm-3')\n",
    "#temperature_grid = 10**np.arange(5,7.5,0.05) * u.K\n",
    "#emission_model = EmissionModel(\n",
    "#    density_grid,\n",
    "#    fiasco.Ion('Fe XII', temperature_grid),\n",
    "#    fiasco.Ion('Fe XIII', temperature_grid),\n",
    "#)\n",
    "#emission_model.calculate_emissivity_table('model_data/emissivity_table.zarr')\n",
    "#emission_model.to_asdf('model_data/emission_model.asdf')\n",
    "\n",
    "# If emissivity table is already calculated, just load it here\n",
    "emission_model = EmissionModel.from_asdf('model_data/emission_model.asdf')"
   ]
  },
  {
   "cell_type": "code",
   "execution_count": 16,
   "id": "7e19d2d2-db20-4dc9-b105-7b13c129cbcd",
   "metadata": {},
   "outputs": [
    {
     "data": {
      "text/plain": [
       "'los_velocity'"
      ]
     },
     "execution_count": 16,
     "metadata": {},
     "output_type": "execute_result"
    }
   ],
   "source": [
    "los_vel.name"
   ]
  },
  {
   "cell_type": "code",
   "execution_count": 9,
   "id": "9ccc994f-79ba-44ff-8ebb-3a8395e7d7fb",
   "metadata": {},
   "outputs": [],
   "source": [
    "@dataclass\n",
    "class ChannelSpectralImager(ChannelBase):\n",
    "    ion_name: str = None\n",
    "    wavelength: u.Quantity = None\n",
    "    psf_width: u.Quantity = (1,1)*u.pix\n",
    "\n",
    "    def __post_init__(self):\n",
    "        self.name = f'{self.ion_name} {self.wavelength.to_value(\"AA\"):.3f}'\n",
    "\n",
    "\n",
    "class InstrumentSpectralImager(InstrumentBase):\n",
    "    name = 'Hinode_EIS'\n",
    "\n",
    "    def __init__(self, observing_time, observer, line_list, **kwargs):\n",
    "        self.channels = [ChannelSpectralImager(ion_name=name, wavelength=wave) for name, wave in line_list]\n",
    "        super().__init__(observing_time, observer, **kwargs)\n",
    "\n",
    "    @property\n",
    "    def resolution(self):\n",
    "        # Should be EIS resolution\n",
    "        return u.Quantity([1.9968, 1], 'arcsec / pix')\n",
    "\n",
    "    @property\n",
    "    def observatory(self):\n",
    "        return 'Hinode'\n",
    "\n",
    "    @property\n",
    "    def detector(self):\n",
    "        return 'EIS'\n",
    "\n",
    "    @property\n",
    "    def telescope(self):\n",
    "        return self.observatory\n",
    "\n",
    "    def get_instrument_name(self, channel):\n",
    "        return self.detector\n",
    "\n",
    "    def get_header(self, channel, coordinates, **kwargs):\n",
    "        header = super().get_header(channel, coordinates, **kwargs)\n",
    "        header['line_id'] = channel.name\n",
    "        header['measrmnt'] = 'intensity'\n",
    "        return header\n",
    "\n",
    "    @staticmethod\n",
    "    def calculate_intensity_kernel(loop, channel, **kwargs):\n",
    "        # Retrieve needed ion object\n",
    "        emission_model = kwargs.get('emission_model')\n",
    "        if emission_model is None:\n",
    "            raise ValueError('Must pass emission model to .observe() method.')\n",
    "        ion_mapping = {i.ion_name_roman: i for i in emission_model}\n",
    "        ion = ion_mapping[channel.ion_name]\n",
    "\n",
    "        # Select emissivity for relevant transition\n",
    "        wave_grid, emiss_grid = emission_model.get_emissivity(ion)\n",
    "        idx = np.argmin(np.fabs(wave_grid - channel.wavelength))\n",
    "        wave = wave_grid[idx]\n",
    "        emissivity = emiss_grid[...,idx]\n",
    "        # Multiply ionization fraction by emissivity\n",
    "        emissivity *= ion.ioneq[:,np.newaxis]\n",
    "        \n",
    "        # Interpolate emissivity to loop temperature and density\n",
    "        T = loop.electron_temperature\n",
    "        n = loop.density\n",
    "        emissivity_interp = interpn(\n",
    "            (emission_model.temperature.to(T.unit).value, emission_model.density.to(n.unit).value),\n",
    "            emissivity.value,\n",
    "            np.stack((T.value.flatten(), n.value.flatten()), axis=1),\n",
    "            method='linear',\n",
    "            fill_value=None,\n",
    "            bounds_error=False,\n",
    "        )\n",
    "        emissivity_interp = np.reshape(emissivity_interp, T.shape)\n",
    "        emissivity_interp = u.Quantity(np.where(emissivity_interp < 0., 0., emissivity_interp), emissivity.unit)\n",
    "        \n",
    "        # Combine all pieces\n",
    "        energy_per_photon = wave.to('erg', equivalencies=u.spectral()) / u.photon\n",
    "        scalar_factor = 0.83 * ion.abundance * energy_per_photon / (4*np.pi*u.steradian)\n",
    "        kernel = scalar_factor * n * emissivity_interp\n",
    "\n",
    "        return (kernel.value, kernel.unit)"
   ]
  },
  {
   "cell_type": "code",
   "execution_count": 10,
   "id": "7b14e1c3-e9f2-4438-b671-ad6e42a7f250",
   "metadata": {},
   "outputs": [],
   "source": [
    "line_list = [\n",
    "    ('Fe XII', 186.854*u.AA),\n",
    "    ('Fe XII', 186.887*u.AA),\n",
    "    ('Fe XII', 195.119*u.AA),\n",
    "    ('Fe XIII', 203.795*u.AA),\n",
    "    ('Fe XIII', 203.826*u.AA),\n",
    "    ('Fe XIII', 202.044*u.AA),\n",
    "]\n",
    "eis = InstrumentSpectralImager([0,]*u.s, m_eis.observer_coordinate, line_list, pad_fov=pad_fov)"
   ]
  },
  {
   "cell_type": "markdown",
   "id": "d0258854-502a-4d6e-9f49-aa9a66611860",
   "metadata": {},
   "source": [
    "## Produce images for all instruments\n",
    "- Loop over HYDRAD runs\n",
    "- Load results to Skeleton\n",
    "- Produce AIA, XRT, velocity, and EIS images for each model run"
   ]
  },
  {
   "cell_type": "code",
   "execution_count": 11,
   "id": "0cb2a7cb-f7e4-463e-b93d-748d12adc027",
   "metadata": {},
   "outputs": [],
   "source": [
    "hydrad_runs = [\n",
    "    pathlib.Path('model_data/hydrad_runs/run_1/'),\n",
    "    pathlib.Path('model_data/hydrad_runs/run_2/'),\n",
    "    pathlib.Path('model_data/hydrad_runs/run_3/'),\n",
    "    pathlib.Path('model_data/hydrad_runs/run_4'),\n",
    "    pathlib.Path('model_data/hydrad_runs/run_7/'),\n",
    "]"
   ]
  },
  {
   "cell_type": "markdown",
   "id": "bda78a14-54b7-4f90-b5fa-7fd449fdd640",
   "metadata": {},
   "source": [
    "First, load all results into loop skeleton"
   ]
  },
  {
   "cell_type": "code",
   "execution_count": 12,
   "id": "ff20f659-a031-4081-bf39-7ca93be576ea",
   "metadata": {},
   "outputs": [
    {
     "name": "stderr",
     "output_type": "stream",
     "text": [
      "WARNING: UnitsWarning: The unit 'G' has been deprecated in the VOUnit standard. Suggested: 0.0001T. [astropy.units.format.utils]\n"
     ]
    }
   ],
   "source": [
    "model_data_dir = pathlib.Path('model_data/')\n",
    "skeletons = {}\n",
    "for run in hydrad_runs:\n",
    "    skeletons[run.name] = synthesizAR.Skeleton.from_asdf('model_data/base_skeleton.asdf')\n",
    "    hydrad = HydradSingleRunInterface(run, time_range=[36,48]*u.h)\n",
    "    skeletons[run.name].load_loop_simulations(hydrad)"
   ]
  },
  {
   "cell_type": "markdown",
   "id": "f549a33f-2632-4423-bd07-32260b0d057d",
   "metadata": {},
   "source": [
    "Purposefully instantiating client here becuase it interferes with how the model is loaded in an annoying way if you're not writing to a Zarr file."
   ]
  },
  {
   "cell_type": "code",
   "execution_count": 14,
   "id": "849a9829-3887-4f69-a4df-4f65d26cb4bb",
   "metadata": {},
   "outputs": [],
   "source": [
    "client = distributed.Client()"
   ]
  },
  {
   "cell_type": "code",
   "execution_count": 21,
   "id": "be6d948e-f42f-4521-b38f-0d3456e4e433",
   "metadata": {
    "scrolled": true
   },
   "outputs": [
    {
     "name": "stderr",
     "output_type": "stream",
     "text": [
      "/Users/wtbarnes/mambaforge/envs/hinode-2023-loops-poster/lib/python3.11/site-packages/scipy/interpolate/_fitpack_impl.py:194: RuntimeWarning: The maximal number of iterations (20) allowed for finding smoothing\n",
      "spline with fp=s has been reached. Probable cause: s too small.\n",
      "(abs(fp-s)/s>0.001)\n",
      "  warnings.warn(RuntimeWarning(_iermess[ier][0]))\n",
      "/Users/wtbarnes/mambaforge/envs/hinode-2023-loops-poster/lib/python3.11/site-packages/scipy/interpolate/_fitpack_impl.py:194: RuntimeWarning: A theoretically impossible result when finding a smoothing spline\n",
      "with fp = s. Probable cause: s too small. (abs(fp-s)/s>0.001)\n",
      "  warnings.warn(RuntimeWarning(_iermess[ier][0]))\n",
      "/Users/wtbarnes/mambaforge/envs/hinode-2023-loops-poster/lib/python3.11/site-packages/scipy/interpolate/_fitpack_impl.py:194: RuntimeWarning: The maximal number of iterations (20) allowed for finding smoothing\n",
      "spline with fp=s has been reached. Probable cause: s too small.\n",
      "(abs(fp-s)/s>0.001)\n",
      "  warnings.warn(RuntimeWarning(_iermess[ier][0]))\n",
      "/Users/wtbarnes/mambaforge/envs/hinode-2023-loops-poster/lib/python3.11/site-packages/scipy/interpolate/_fitpack_impl.py:194: RuntimeWarning: A theoretically impossible result when finding a smoothing spline\n",
      "with fp = s. Probable cause: s too small. (abs(fp-s)/s>0.001)\n",
      "  warnings.warn(RuntimeWarning(_iermess[ier][0]))\n",
      "/Users/wtbarnes/mambaforge/envs/hinode-2023-loops-poster/lib/python3.11/site-packages/scipy/interpolate/_fitpack_impl.py:194: RuntimeWarning: The maximal number of iterations (20) allowed for finding smoothing\n",
      "spline with fp=s has been reached. Probable cause: s too small.\n",
      "(abs(fp-s)/s>0.001)\n",
      "  warnings.warn(RuntimeWarning(_iermess[ier][0]))\n",
      "/Users/wtbarnes/mambaforge/envs/hinode-2023-loops-poster/lib/python3.11/site-packages/scipy/interpolate/_fitpack_impl.py:194: RuntimeWarning: A theoretically impossible result when finding a smoothing spline\n",
      "with fp = s. Probable cause: s too small. (abs(fp-s)/s>0.001)\n",
      "  warnings.warn(RuntimeWarning(_iermess[ier][0]))\n",
      "/Users/wtbarnes/mambaforge/envs/hinode-2023-loops-poster/lib/python3.11/site-packages/scipy/interpolate/_fitpack_impl.py:194: RuntimeWarning: The maximal number of iterations (20) allowed for finding smoothing\n",
      "spline with fp=s has been reached. Probable cause: s too small.\n",
      "(abs(fp-s)/s>0.001)\n",
      "  warnings.warn(RuntimeWarning(_iermess[ier][0]))\n",
      "/Users/wtbarnes/mambaforge/envs/hinode-2023-loops-poster/lib/python3.11/site-packages/scipy/interpolate/_fitpack_impl.py:194: RuntimeWarning: A theoretically impossible result when finding a smoothing spline\n",
      "with fp = s. Probable cause: s too small. (abs(fp-s)/s>0.001)\n",
      "  warnings.warn(RuntimeWarning(_iermess[ier][0]))\n",
      "/Users/wtbarnes/mambaforge/envs/hinode-2023-loops-poster/lib/python3.11/site-packages/scipy/interpolate/_fitpack_impl.py:194: RuntimeWarning: The maximal number of iterations (20) allowed for finding smoothing\n",
      "spline with fp=s has been reached. Probable cause: s too small.\n",
      "(abs(fp-s)/s>0.001)\n",
      "  warnings.warn(RuntimeWarning(_iermess[ier][0]))\n",
      "/Users/wtbarnes/mambaforge/envs/hinode-2023-loops-poster/lib/python3.11/site-packages/scipy/interpolate/_fitpack_impl.py:194: RuntimeWarning: A theoretically impossible result when finding a smoothing spline\n",
      "with fp = s. Probable cause: s too small. (abs(fp-s)/s>0.001)\n",
      "  warnings.warn(RuntimeWarning(_iermess[ier][0]))\n",
      "/Users/wtbarnes/mambaforge/envs/hinode-2023-loops-poster/lib/python3.11/site-packages/scipy/interpolate/_fitpack_impl.py:194: RuntimeWarning: The maximal number of iterations (20) allowed for finding smoothing\n",
      "spline with fp=s has been reached. Probable cause: s too small.\n",
      "(abs(fp-s)/s>0.001)\n",
      "  warnings.warn(RuntimeWarning(_iermess[ier][0]))\n",
      "/Users/wtbarnes/mambaforge/envs/hinode-2023-loops-poster/lib/python3.11/site-packages/scipy/interpolate/_fitpack_impl.py:194: RuntimeWarning: A theoretically impossible result when finding a smoothing spline\n",
      "with fp = s. Probable cause: s too small. (abs(fp-s)/s>0.001)\n",
      "  warnings.warn(RuntimeWarning(_iermess[ier][0]))\n",
      "/Users/wtbarnes/mambaforge/envs/hinode-2023-loops-poster/lib/python3.11/site-packages/scipy/interpolate/_fitpack_impl.py:194: RuntimeWarning: The maximal number of iterations (20) allowed for finding smoothing\n",
      "spline with fp=s has been reached. Probable cause: s too small.\n",
      "(abs(fp-s)/s>0.001)\n",
      "  warnings.warn(RuntimeWarning(_iermess[ier][0]))\n",
      "/Users/wtbarnes/mambaforge/envs/hinode-2023-loops-poster/lib/python3.11/site-packages/scipy/interpolate/_fitpack_impl.py:194: RuntimeWarning: A theoretically impossible result when finding a smoothing spline\n",
      "with fp = s. Probable cause: s too small. (abs(fp-s)/s>0.001)\n",
      "  warnings.warn(RuntimeWarning(_iermess[ier][0]))\n",
      "/Users/wtbarnes/mambaforge/envs/hinode-2023-loops-poster/lib/python3.11/site-packages/scipy/interpolate/_fitpack_impl.py:194: RuntimeWarning: The maximal number of iterations (20) allowed for finding smoothing\n",
      "spline with fp=s has been reached. Probable cause: s too small.\n",
      "(abs(fp-s)/s>0.001)\n",
      "  warnings.warn(RuntimeWarning(_iermess[ier][0]))\n",
      "/Users/wtbarnes/mambaforge/envs/hinode-2023-loops-poster/lib/python3.11/site-packages/scipy/interpolate/_fitpack_impl.py:194: RuntimeWarning: A theoretically impossible result when finding a smoothing spline\n",
      "with fp = s. Probable cause: s too small. (abs(fp-s)/s>0.001)\n",
      "  warnings.warn(RuntimeWarning(_iermess[ier][0]))\n",
      "/Users/wtbarnes/mambaforge/envs/hinode-2023-loops-poster/lib/python3.11/site-packages/scipy/interpolate/_fitpack_impl.py:194: RuntimeWarning: The maximal number of iterations (20) allowed for finding smoothing\n",
      "spline with fp=s has been reached. Probable cause: s too small.\n",
      "(abs(fp-s)/s>0.001)\n",
      "  warnings.warn(RuntimeWarning(_iermess[ier][0]))\n",
      "/Users/wtbarnes/mambaforge/envs/hinode-2023-loops-poster/lib/python3.11/site-packages/scipy/interpolate/_fitpack_impl.py:194: RuntimeWarning: A theoretically impossible result when finding a smoothing spline\n",
      "with fp = s. Probable cause: s too small. (abs(fp-s)/s>0.001)\n",
      "  warnings.warn(RuntimeWarning(_iermess[ier][0]))\n",
      "/Users/wtbarnes/mambaforge/envs/hinode-2023-loops-poster/lib/python3.11/site-packages/scipy/interpolate/_fitpack_impl.py:194: RuntimeWarning: The maximal number of iterations (20) allowed for finding smoothing\n",
      "spline with fp=s has been reached. Probable cause: s too small.\n",
      "(abs(fp-s)/s>0.001)\n",
      "  warnings.warn(RuntimeWarning(_iermess[ier][0]))\n",
      "/Users/wtbarnes/mambaforge/envs/hinode-2023-loops-poster/lib/python3.11/site-packages/scipy/interpolate/_fitpack_impl.py:194: RuntimeWarning: A theoretically impossible result when finding a smoothing spline\n",
      "with fp = s. Probable cause: s too small. (abs(fp-s)/s>0.001)\n",
      "  warnings.warn(RuntimeWarning(_iermess[ier][0]))\n",
      "/Users/wtbarnes/mambaforge/envs/hinode-2023-loops-poster/lib/python3.11/site-packages/scipy/interpolate/_fitpack_impl.py:194: RuntimeWarning: The maximal number of iterations (20) allowed for finding smoothing\n",
      "spline with fp=s has been reached. Probable cause: s too small.\n",
      "(abs(fp-s)/s>0.001)\n",
      "  warnings.warn(RuntimeWarning(_iermess[ier][0]))\n",
      "/Users/wtbarnes/mambaforge/envs/hinode-2023-loops-poster/lib/python3.11/site-packages/scipy/interpolate/_fitpack_impl.py:194: RuntimeWarning: A theoretically impossible result when finding a smoothing spline\n",
      "with fp = s. Probable cause: s too small. (abs(fp-s)/s>0.001)\n",
      "  warnings.warn(RuntimeWarning(_iermess[ier][0]))\n",
      "/Users/wtbarnes/mambaforge/envs/hinode-2023-loops-poster/lib/python3.11/site-packages/scipy/interpolate/_fitpack_impl.py:194: RuntimeWarning: The maximal number of iterations (20) allowed for finding smoothing\n",
      "spline with fp=s has been reached. Probable cause: s too small.\n",
      "(abs(fp-s)/s>0.001)\n",
      "  warnings.warn(RuntimeWarning(_iermess[ier][0]))\n",
      "/Users/wtbarnes/mambaforge/envs/hinode-2023-loops-poster/lib/python3.11/site-packages/scipy/interpolate/_fitpack_impl.py:194: RuntimeWarning: A theoretically impossible result when finding a smoothing spline\n",
      "with fp = s. Probable cause: s too small. (abs(fp-s)/s>0.001)\n",
      "  warnings.warn(RuntimeWarning(_iermess[ier][0]))\n",
      "/Users/wtbarnes/mambaforge/envs/hinode-2023-loops-poster/lib/python3.11/site-packages/scipy/interpolate/_fitpack_impl.py:194: RuntimeWarning: The maximal number of iterations (20) allowed for finding smoothing\n",
      "spline with fp=s has been reached. Probable cause: s too small.\n",
      "(abs(fp-s)/s>0.001)\n",
      "  warnings.warn(RuntimeWarning(_iermess[ier][0]))\n",
      "/Users/wtbarnes/mambaforge/envs/hinode-2023-loops-poster/lib/python3.11/site-packages/scipy/interpolate/_fitpack_impl.py:194: RuntimeWarning: A theoretically impossible result when finding a smoothing spline\n",
      "with fp = s. Probable cause: s too small. (abs(fp-s)/s>0.001)\n",
      "  warnings.warn(RuntimeWarning(_iermess[ier][0]))\n",
      "/Users/wtbarnes/mambaforge/envs/hinode-2023-loops-poster/lib/python3.11/site-packages/scipy/interpolate/_fitpack_impl.py:194: RuntimeWarning: The maximal number of iterations (20) allowed for finding smoothing\n",
      "spline with fp=s has been reached. Probable cause: s too small.\n",
      "(abs(fp-s)/s>0.001)\n",
      "  warnings.warn(RuntimeWarning(_iermess[ier][0]))\n",
      "/Users/wtbarnes/mambaforge/envs/hinode-2023-loops-poster/lib/python3.11/site-packages/scipy/interpolate/_fitpack_impl.py:194: RuntimeWarning: A theoretically impossible result when finding a smoothing spline\n",
      "with fp = s. Probable cause: s too small. (abs(fp-s)/s>0.001)\n",
      "  warnings.warn(RuntimeWarning(_iermess[ier][0]))\n",
      "/Users/wtbarnes/mambaforge/envs/hinode-2023-loops-poster/lib/python3.11/site-packages/scipy/interpolate/_fitpack_impl.py:194: RuntimeWarning: The maximal number of iterations (20) allowed for finding smoothing\n",
      "spline with fp=s has been reached. Probable cause: s too small.\n",
      "(abs(fp-s)/s>0.001)\n",
      "  warnings.warn(RuntimeWarning(_iermess[ier][0]))\n",
      "/Users/wtbarnes/mambaforge/envs/hinode-2023-loops-poster/lib/python3.11/site-packages/scipy/interpolate/_fitpack_impl.py:194: RuntimeWarning: A theoretically impossible result when finding a smoothing spline\n",
      "with fp = s. Probable cause: s too small. (abs(fp-s)/s>0.001)\n",
      "  warnings.warn(RuntimeWarning(_iermess[ier][0]))\n",
      "/Users/wtbarnes/mambaforge/envs/hinode-2023-loops-poster/lib/python3.11/site-packages/scipy/interpolate/_fitpack_impl.py:194: RuntimeWarning: The maximal number of iterations (20) allowed for finding smoothing\n",
      "spline with fp=s has been reached. Probable cause: s too small.\n",
      "(abs(fp-s)/s>0.001)\n",
      "  warnings.warn(RuntimeWarning(_iermess[ier][0]))\n",
      "/Users/wtbarnes/mambaforge/envs/hinode-2023-loops-poster/lib/python3.11/site-packages/scipy/interpolate/_fitpack_impl.py:194: RuntimeWarning: A theoretically impossible result when finding a smoothing spline\n",
      "with fp = s. Probable cause: s too small. (abs(fp-s)/s>0.001)\n",
      "  warnings.warn(RuntimeWarning(_iermess[ier][0]))\n",
      "/Users/wtbarnes/mambaforge/envs/hinode-2023-loops-poster/lib/python3.11/site-packages/scipy/interpolate/_fitpack_impl.py:194: RuntimeWarning: The maximal number of iterations (20) allowed for finding smoothing\n",
      "spline with fp=s has been reached. Probable cause: s too small.\n",
      "(abs(fp-s)/s>0.001)\n",
      "  warnings.warn(RuntimeWarning(_iermess[ier][0]))\n",
      "/Users/wtbarnes/mambaforge/envs/hinode-2023-loops-poster/lib/python3.11/site-packages/scipy/interpolate/_fitpack_impl.py:194: RuntimeWarning: A theoretically impossible result when finding a smoothing spline\n",
      "with fp = s. Probable cause: s too small. (abs(fp-s)/s>0.001)\n",
      "  warnings.warn(RuntimeWarning(_iermess[ier][0]))\n",
      "/Users/wtbarnes/mambaforge/envs/hinode-2023-loops-poster/lib/python3.11/site-packages/scipy/interpolate/_fitpack_impl.py:194: RuntimeWarning: The maximal number of iterations (20) allowed for finding smoothing\n",
      "spline with fp=s has been reached. Probable cause: s too small.\n",
      "(abs(fp-s)/s>0.001)\n",
      "  warnings.warn(RuntimeWarning(_iermess[ier][0]))\n",
      "/Users/wtbarnes/mambaforge/envs/hinode-2023-loops-poster/lib/python3.11/site-packages/scipy/interpolate/_fitpack_impl.py:194: RuntimeWarning: A theoretically impossible result when finding a smoothing spline\n",
      "with fp = s. Probable cause: s too small. (abs(fp-s)/s>0.001)\n",
      "  warnings.warn(RuntimeWarning(_iermess[ier][0]))\n",
      "/Users/wtbarnes/mambaforge/envs/hinode-2023-loops-poster/lib/python3.11/site-packages/scipy/interpolate/_fitpack_impl.py:194: RuntimeWarning: The maximal number of iterations (20) allowed for finding smoothing\n",
      "spline with fp=s has been reached. Probable cause: s too small.\n",
      "(abs(fp-s)/s>0.001)\n",
      "  warnings.warn(RuntimeWarning(_iermess[ier][0]))\n",
      "/Users/wtbarnes/mambaforge/envs/hinode-2023-loops-poster/lib/python3.11/site-packages/scipy/interpolate/_fitpack_impl.py:194: RuntimeWarning: A theoretically impossible result when finding a smoothing spline\n",
      "with fp = s. Probable cause: s too small. (abs(fp-s)/s>0.001)\n",
      "  warnings.warn(RuntimeWarning(_iermess[ier][0]))\n",
      "/Users/wtbarnes/mambaforge/envs/hinode-2023-loops-poster/lib/python3.11/site-packages/scipy/interpolate/_fitpack_impl.py:194: RuntimeWarning: The maximal number of iterations (20) allowed for finding smoothing\n",
      "spline with fp=s has been reached. Probable cause: s too small.\n",
      "(abs(fp-s)/s>0.001)\n",
      "  warnings.warn(RuntimeWarning(_iermess[ier][0]))\n",
      "/Users/wtbarnes/mambaforge/envs/hinode-2023-loops-poster/lib/python3.11/site-packages/scipy/interpolate/_fitpack_impl.py:194: RuntimeWarning: A theoretically impossible result when finding a smoothing spline\n",
      "with fp = s. Probable cause: s too small. (abs(fp-s)/s>0.001)\n",
      "  warnings.warn(RuntimeWarning(_iermess[ier][0]))\n"
     ]
    }
   ],
   "source": [
    "for run in hydrad_runs:\n",
    "    for instr in [aia, xrt, eis, los_vel]:\n",
    "        if instr.name == 'Hinode_EIS':\n",
    "            sim_maps = instr.observe(skeletons[run.name], emission_model=emission_model)\n",
    "        elif instr.name == 'los_velocity':\n",
    "            sim_maps = instr.observe(skeletons[run.name], observer=los_vel.observer)\n",
    "        else:\n",
    "            sim_maps = instr.observe(skeletons[run.name],)\n",
    "        res_dir = model_data_dir / instr.name / run.name\n",
    "        res_dir.mkdir(parents=True, exist_ok=True)\n",
    "        for k in sim_maps:\n",
    "            for i,m in enumerate(sim_maps[k]):\n",
    "                fname = res_dir / f'{\"_\".join(k.split())}_t{i}.fits'\n",
    "                sim_maps[k][i].save(fname, overwrite=True)"
   ]
  },
  {
   "cell_type": "code",
   "execution_count": null,
   "id": "6fd84a33-af82-4382-ab66-5b89a75ebbae",
   "metadata": {},
   "outputs": [],
   "source": []
  }
 ],
 "metadata": {
  "kernelspec": {
   "display_name": "Python [conda env:hinode-2023-loops-poster]",
   "language": "python",
   "name": "conda-env-hinode-2023-loops-poster-py"
  },
  "language_info": {
   "codemirror_mode": {
    "name": "ipython",
    "version": 3
   },
   "file_extension": ".py",
   "mimetype": "text/x-python",
   "name": "python",
   "nbconvert_exporter": "python",
   "pygments_lexer": "ipython3",
   "version": "3.11.4"
  }
 },
 "nbformat": 4,
 "nbformat_minor": 5
}
